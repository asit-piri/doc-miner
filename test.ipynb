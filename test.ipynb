{
 "cells": [
  {
   "cell_type": "code",
   "execution_count": null,
   "id": "5792618b",
   "metadata": {
    "vscode": {
     "languageId": "plaintext"
    }
   },
   "outputs": [],
   "source": [
    "import openai\n",
    "openai.api_key = \"dummy\"\n",
    "openai.api_base = \"http://62.169.159.70:8000/v1\"\n",
    "\n",
    "res = openai.Embedding.create(\n",
    "    model=\"BAAI/bge-m3\",\n",
    "    input=[\"Explain vector search in 2 lines.\"]\n",
    ")\n",
    "print(\"dim:\", len(res[\"data\"][0][\"embedding\"]))"
   ]
  }
 ],
 "metadata": {
  "language_info": {
   "name": "python"
  }
 },
 "nbformat": 4,
 "nbformat_minor": 5
}
